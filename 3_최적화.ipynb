{
  "nbformat": 4,
  "nbformat_minor": 0,
  "metadata": {
    "colab": {
      "provenance": [],
      "authorship_tag": "ABX9TyNjROaAl3wTtJ9JclVetm00",
      "include_colab_link": true
    },
    "kernelspec": {
      "name": "python3",
      "display_name": "Python 3"
    },
    "language_info": {
      "name": "python"
    }
  },
  "cells": [
    {
      "cell_type": "markdown",
      "metadata": {
        "id": "view-in-github",
        "colab_type": "text"
      },
      "source": [
        "<a href=\"https://colab.research.google.com/github/JIANSO/Data-Analysis/blob/main/3_%EC%B5%9C%EC%A0%81%ED%99%94.ipynb\" target=\"_parent\"><img src=\"https://colab.research.google.com/assets/colab-badge.svg\" alt=\"Open In Colab\"/></a>"
      ]
    },
    {
      "cell_type": "markdown",
      "source": [
        "# 최적화\n",
        "### 이번 장은 이전에 사용했던 모델을 발전시키고 예측을 강화할 방법을 탐구하는 과정을 다룰 것입니다.\n",
        "### 이전 예측에서 충분한 결과를 얻었다면 건너뛰어도 좋습니다."
      ],
      "metadata": {
        "id": "AEJgBycP8R2Q"
      }
    },
    {
      "cell_type": "markdown",
      "source": [
        "## 목차\n",
        "1. 데이터 준비\n",
        "1. 이전 모델 분석\n",
        "1. 개선점 파악\n",
        "1. 개선 방법"
      ],
      "metadata": {
        "id": "oKbmxlia8TiT"
      }
    },
    {
      "cell_type": "markdown",
      "source": [
        "## 1. 데이터 불러오기"
      ],
      "metadata": {
        "id": "g-JTSIwM8U3f"
      }
    },
    {
      "cell_type": "markdown",
      "source": [
        "먼저 fbprophet 학습을 위해 필요한 라이브러리와 데이터를 불러옵니다.\n",
        "앞서와 같은 장비 번호의 데이터를 불러옵니다."
      ],
      "metadata": {
        "id": "yVVR3oag8V1u"
      }
    },
    {
      "cell_type": "markdown",
      "source": [
        "#### (실습 1) 학습에 사용할 데이터를 불러옵니다. 라이브러리도 같이 불러옵니다."
      ],
      "metadata": {
        "id": "s6Yf2Axf8YK1"
      }
    },
    {
      "cell_type": "code",
      "source": [
        "from aicentro.session import Session\n",
        "from aicentro.framework.keras import Keras as AiduFrm\n",
        "import numpy as np\n",
        "import pandas as pd\n",
        "aidu_session = Session(verify=False)\n",
        "aidu_framework = AiduFrm(session=aidu_session)\n",
        "data = pd.read_csv(\"data_2.csv\")"
      ],
      "metadata": {
        "id": "xxXS--Yr8Zzl"
      },
      "execution_count": null,
      "outputs": []
    },
    {
      "cell_type": "markdown",
      "source": [
        "#### (실습 2) fbprophet을 위해 데이터를 정리합니다. 구분을 위해 train_fb, test_fb로 저장해주세요"
      ],
      "metadata": {
        "id": "CZOLpFLS8bhf"
      }
    },
    {
      "cell_type": "code",
      "source": [
        "# Hint : 앞서 진행했던 내용을 참고하시면 됩니다. 특히 칼럼명을 변형하는 과정까지 진행해야 함을 기억하세요.\n",
        "from fbprophet import Prophet\n",
        "import datetime\n",
        "data_dropped = data.drop('dev', axis='columns')\n",
        "data_dropped['date'] = pd.to_datetime(data_dropped['date'],format='%Y%m%d')\n",
        "data_dropped = data_dropped.set_index('date')\n",
        "train_fb = data_dropped.loc[:datetime.datetime(2019,10,31),:]\n",
        "test_fb = data_dropped.loc[datetime.datetime(2019,11,1):,:]\n",
        "\n",
        "train_fb = train_fb.reset_index().rename(columns={'val':'y'})\n",
        "train_fb['ds'] = pd.to_datetime(train_fb['date'].astype(str))\n",
        "train_fb = train_fb.drop('date',axis=1)\n",
        "\n",
        "test_fb = test_fb.reset_index().rename(columns={'val':'y'})\n",
        "test_fb['ds'] = pd.to_datetime(test_fb['date'].astype(str))\n",
        "test_fb = test_fb.drop('date',axis=1)"
      ],
      "metadata": {
        "id": "BY0E1c4w8c-D"
      },
      "execution_count": null,
      "outputs": []
    },
    {
      "cell_type": "markdown",
      "source": [
        "다음은 ARIMA 모델을 위한 데이터를 불러옵니다."
      ],
      "metadata": {
        "id": "DdaZl62z8uUs"
      }
    },
    {
      "cell_type": "markdown",
      "source": [
        "#### (실습 3) ARIMA 모델을 위해 데이터를 정리합니다. 구분을 위해 train_arima, test_arima로 저장해주세요"
      ],
      "metadata": {
        "id": "bbUG_qka8vUr"
      }
    },
    {
      "cell_type": "code",
      "source": [
        "# Hint : 앞서 진행했던 내용을 참고하시면 됩니다.\n",
        "from statsmodels.tsa.arima_model import ARIMA\n",
        "import datetime\n",
        "data_dropped = data.drop('dev', axis='columns')\n",
        "data_dropped['date'] = pd.to_datetime(data_dropped['date'],format='%Y%m%d')\n",
        "data_dropped = data_dropped.set_index('date')\n",
        "\n",
        "train_arima = data_dropped.loc[:datetime.datetime(2019,10,31),:]\n",
        "test_arima = data_dropped.loc[datetime.datetime(2019,11,1):,:]"
      ],
      "metadata": {
        "id": "Ugv6KofN8_a8"
      },
      "execution_count": null,
      "outputs": []
    },
    {
      "cell_type": "markdown",
      "source": [
        "## 2. 이전 모델 분석"
      ],
      "metadata": {
        "id": "ZrxvyVpj9B9i"
      }
    },
    {
      "cell_type": "markdown",
      "source": [
        "이전에 학습했던 모델들의 문제점에 대해 생각해봅시다.  \n",
        "우선 데이터가 부족했다면 데이터를 추가할 수 있을 것입니다.  \n",
        "어쩌면 모델을 생성할 때 입력한 모수가 적절하지 못했을 수도 있습니다.  \n",
        "혹은 데이터가 적절치 못했을 수도 있고 전처리 과정에서 무언가 추가해야 할 수도 있습니다."
      ],
      "metadata": {
        "id": "P43hcFoc9Cte"
      }
    },
    {
      "cell_type": "markdown",
      "source": [
        "#### (실습 4) 이전 모델에서 부족했던 점을 찾아봅니다."
      ],
      "metadata": {
        "id": "RAiZKcGJ9FL8"
      }
    },
    {
      "cell_type": "code",
      "source": [
        "<pre>\n",
        "# Hint : 각 모델의 평가를 참조하면 좋습니다.\n",
        "fbprophet에서 다른 설정값을 주면 어떨까요?\n",
        "arima 모델의 모수를 맞춰서 넣으면 어떨까요?\n",
        "</pre>"
      ],
      "metadata": {
        "id": "gWcimzw89GFj"
      },
      "execution_count": null,
      "outputs": []
    },
    {
      "cell_type": "markdown",
      "source": [
        "## 3. 개선점 파악\n",
        "이전 모델의 문제점을 파악했다면 개선하기 위한 방법을 생각해봅시다.  \n",
        "데이터를 추가하는 방법엔 이전 데이터를 바탕으로 가짜 데이터를 추가하는 방법도 고려할 수 있습니다.  \n",
        "혹은 모수를 선택하기 위한 다른 방법을 찾아볼 수 있을 겁니다.  \n",
        "전처리 과정을 간략하게 하거나 보다 좋은 데이터를 얻기 위해 취할 수 있는 방법이 있을 수도 있습니다."
      ],
      "metadata": {
        "id": "Jp7L4RX09Hya"
      }
    },
    {
      "cell_type": "markdown",
      "source": [
        "## 4. 개선 방법\n",
        "이제 개선하기 위한 방법을 찾아봅시다.  \n",
        "다양한 모수를 입력해보거나 데이터 전처리를 다양한 방법으로 바꿀 수 있습니다.  \n",
        "예를 들면 일 단위 데이터를 1시간 단위 데이터로 바꾸는 방법도 생각해 볼 수 있습니다.  \n",
        "처음 모델을 학습 시켰을 때 원하는 결과가 나오지 않을 수 있습니다.  \n",
        "또는 보다 좋은 모델이 있을 수도 있습니다.  \n",
        "이후엔 모델의 학습 속도, 예측 속도를 고려할 수도 있습니다."
      ],
      "metadata": {
        "id": "DJsL9OBZ9J_D"
      }
    },
    {
      "cell_type": "markdown",
      "source": [
        "#### (실습 5) 여러분의 fbprophet 모델을 개선해봅시다. 두 가지 이상 새로운 모델을 만들어보세요."
      ],
      "metadata": {
        "id": "pfr0uTuY9Mrp"
      }
    },
    {
      "cell_type": "code",
      "source": [
        "# fbprophet\n",
        "\n",
        "## 트렌드가 변화하는 지점을 더 잘 찾기 위한 특성\n",
        "## range 기본 값은 0.8, scale 기본은 0.05\n",
        "model_1 = Prophet(yearly_seasonality=True, changepoint_range=0.9, changepoint_prior_scale=0.1)\n",
        "model_1.fit(train_fb)\n",
        "\n",
        "forecast_fb_1 = model_1.predict(test_fb)\n",
        "\n",
        "import matplotlib.pyplot as plt\n",
        "%matplotlib inline\n",
        "fig,ax=plt.subplots(figsize=(16,13))\n",
        "model_1.plot(forecast_fb_1, ax=ax)\n",
        "plt.plot(train_fb['ds'],train_fb['y'])\n",
        "plt.plot(test_fb['ds'],test_fb['y'])\n",
        "\n",
        "## 특성이 없는 모델\n",
        "model_2 = Prophet()\n",
        "model_2.fit(train_fb)\n",
        "forecast_fb_2 = model_2.predict(test_fb)\n",
        "fig,ax=plt.subplots(figsize=(16,13))\n",
        "model_2.plot(forecast_fb_2, ax=ax)\n",
        "plt.plot(train_fb['ds'],train_fb['y'])\n",
        "plt.plot(test_fb['ds'],test_fb['y'])\n",
        "\n",
        "## 특성이 더 강한 모델\n",
        "model_3 = Prophet(changepoint_prior_scale=0.5)\n",
        "model_3.fit(train_fb)\n",
        "forecast_fb_3 = model_3.predict(test_fb)\n",
        "fig,ax=plt.subplots(figsize=(16,13))\n",
        "model_3.plot(forecast_fb_3, ax=ax)\n",
        "plt.plot(train_fb['ds'],train_fb['y'])\n",
        "plt.plot(test_fb['ds'],test_fb['y'])"
      ],
      "metadata": {
        "id": "twPg4jSY9O_U"
      },
      "execution_count": null,
      "outputs": []
    },
    {
      "cell_type": "markdown",
      "source": [
        "다음은 ARIMA 모델에서 ACF와 PACF를 구하는 방법을 알려드리겠습니다.  \n",
        "statsmodels에 있는 함수를 사용하면 그래프를 그릴 수 있습니다."
      ],
      "metadata": {
        "id": "UDAsVc9p9WCh"
      }
    },
    {
      "cell_type": "code",
      "source": [
        "# ARIMA 모델\n",
        "## ACF와 PACF 계산\n",
        "\n",
        "import matplotlib.pyplot as plt\n",
        "import statsmodels.api as sm\n",
        "fig = plt.figure(figsize=(16,10))\n",
        "# 그래프의 위치 설정\n",
        "ax1=fig.add_subplot(211)\n",
        "# ACF 그래프\n",
        "fig = sm.graphics.tsa.plot_acf(train_arima['val'], lags=20, ax=ax1)\n",
        "# 그래프의 위치 설정\n",
        "ax2 = fig.add_subplot(212)\n",
        "# PCAF 그래프\n",
        "fig = sm.graphics.tsa.plot_pacf(train_arima['val'], lags=20,ax=ax2)"
      ],
      "metadata": {
        "id": "4VhFBGn29dum"
      },
      "execution_count": null,
      "outputs": []
    },
    {
      "cell_type": "markdown",
      "source": [
        "모수를 결정하는 기준은 아래와 같습니다.  \n",
        "\n",
        "|Models|ACF|PACF|\n",
        "|------|---------------|------------|\n",
        "|AR(P)|점차 0에 접근|시차 P이후 0|\n",
        "|MA(Q)|시차 Q 이후 0|점차 0에 접근|\n",
        "|ARIMA(P,Q)|시차 Q이후 0|시차 P이후 0|\n",
        "\n",
        "특히 위와 같이 ACF가 0으로 접근하지 않으면 차분을 하면 됩니다.  \n",
        "차분을 진행하는 법은 아래와 같습니다."
      ],
      "metadata": {
        "id": "qFcn_oE5-Xaa"
      }
    },
    {
      "cell_type": "code",
      "source": [
        "import copy as cp\n",
        "differed = cp.deepcopy(train_arima)\n",
        "differed = differed.diff().dropna()\n"
      ],
      "metadata": {
        "id": "-KfJUPsP-U54"
      },
      "execution_count": null,
      "outputs": []
    },
    {
      "cell_type": "markdown",
      "source": [
        "차분의 결과에서 ACF와 PACF를 구해본 후 적절한 차분 횟수와 모수를 정할 수 있습니다.  \n",
        "위의 그래프는 차분하지 않은 데이터이므로 D=0을 사용하면 됩니다.  \n",
        "ACF가 잘 줄어드지 않는 것 같으니 차분을 해볼까요?"
      ],
      "metadata": {
        "id": "rUgN7oav-WK3"
      }
    },
    {
      "cell_type": "code",
      "source": [
        "fig = plt.figure(figsize=(16,10))\n",
        "# 그래프의 위치 설정\n",
        "ax1=fig.add_subplot(211)\n",
        "# ACF 그래프\n",
        "fig = sm.graphics.tsa.plot_acf(differed['val'], lags=20, ax=ax1)\n",
        "# 그래프의 위치 설정\n",
        "ax2 = fig.add_subplot(212)\n",
        "# PCAF 그래프\n",
        "fig = sm.graphics.tsa.plot_pacf(differed['val'], lags=20,ax=ax2)"
      ],
      "metadata": {
        "colab": {
          "base_uri": "https://localhost:8080/",
          "height": 220
        },
        "id": "NrXLKgHq-gqH",
        "outputId": "4302ad77-84a7-4c09-f1a6-64a53658b6ff"
      },
      "execution_count": 1,
      "outputs": [
        {
          "output_type": "error",
          "ename": "NameError",
          "evalue": "name 'plt' is not defined",
          "traceback": [
            "\u001b[0;31m---------------------------------------------------------------------------\u001b[0m",
            "\u001b[0;31mNameError\u001b[0m                                 Traceback (most recent call last)",
            "\u001b[0;32m/tmp/ipython-input-4106079307.py\u001b[0m in \u001b[0;36m<cell line: 0>\u001b[0;34m()\u001b[0m\n\u001b[0;32m----> 1\u001b[0;31m \u001b[0mfig\u001b[0m \u001b[0;34m=\u001b[0m \u001b[0mplt\u001b[0m\u001b[0;34m.\u001b[0m\u001b[0mfigure\u001b[0m\u001b[0;34m(\u001b[0m\u001b[0mfigsize\u001b[0m\u001b[0;34m=\u001b[0m\u001b[0;34m(\u001b[0m\u001b[0;36m16\u001b[0m\u001b[0;34m,\u001b[0m\u001b[0;36m10\u001b[0m\u001b[0;34m)\u001b[0m\u001b[0;34m)\u001b[0m\u001b[0;34m\u001b[0m\u001b[0;34m\u001b[0m\u001b[0m\n\u001b[0m\u001b[1;32m      2\u001b[0m \u001b[0;31m# 그래프의 위치 설정\u001b[0m\u001b[0;34m\u001b[0m\u001b[0;34m\u001b[0m\u001b[0m\n\u001b[1;32m      3\u001b[0m \u001b[0max1\u001b[0m\u001b[0;34m=\u001b[0m\u001b[0mfig\u001b[0m\u001b[0;34m.\u001b[0m\u001b[0madd_subplot\u001b[0m\u001b[0;34m(\u001b[0m\u001b[0;36m211\u001b[0m\u001b[0;34m)\u001b[0m\u001b[0;34m\u001b[0m\u001b[0;34m\u001b[0m\u001b[0m\n\u001b[1;32m      4\u001b[0m \u001b[0;31m# ACF 그래프\u001b[0m\u001b[0;34m\u001b[0m\u001b[0;34m\u001b[0m\u001b[0m\n\u001b[1;32m      5\u001b[0m \u001b[0mfig\u001b[0m \u001b[0;34m=\u001b[0m \u001b[0msm\u001b[0m\u001b[0;34m.\u001b[0m\u001b[0mgraphics\u001b[0m\u001b[0;34m.\u001b[0m\u001b[0mtsa\u001b[0m\u001b[0;34m.\u001b[0m\u001b[0mplot_acf\u001b[0m\u001b[0;34m(\u001b[0m\u001b[0mdiffered\u001b[0m\u001b[0;34m[\u001b[0m\u001b[0;34m'val'\u001b[0m\u001b[0;34m]\u001b[0m\u001b[0;34m,\u001b[0m \u001b[0mlags\u001b[0m\u001b[0;34m=\u001b[0m\u001b[0;36m20\u001b[0m\u001b[0;34m,\u001b[0m \u001b[0max\u001b[0m\u001b[0;34m=\u001b[0m\u001b[0max1\u001b[0m\u001b[0;34m)\u001b[0m\u001b[0;34m\u001b[0m\u001b[0;34m\u001b[0m\u001b[0m\n",
            "\u001b[0;31mNameError\u001b[0m: name 'plt' is not defined"
          ]
        }
      ]
    },
    {
      "cell_type": "markdown",
      "source": [
        "이번엔 위의 그래프에서 파란 값 범위 안에 근접하기 시작하는 P=4, Q=2을 선택하겠습니다.  \n",
        "그리고 차분을 한 번 했으니 D=1로 하겠습니다."
      ],
      "metadata": {
        "id": "8Qr96ami-jvY"
      }
    },
    {
      "cell_type": "code",
      "source": [
        "p = 4\n",
        "d = 1\n",
        "q = 2"
      ],
      "metadata": {
        "id": "RA2vRLkP-lFK"
      },
      "execution_count": null,
      "outputs": []
    },
    {
      "cell_type": "markdown",
      "source": [
        "이제 이 값을 모수로 모델을 생성할 수 있습니다.  \n",
        "다른 모수를 기준으로 모델을 생성해보며 결과가 어떻게 바뀌는지 확인하세요."
      ],
      "metadata": {
        "id": "I9lu85L0-mU_"
      }
    },
    {
      "cell_type": "markdown",
      "source": [
        "#### (실습 6) 여러분의 ARIMA 모델을 개선해보세요. 두 가지 이상 다른 설정을 추가해보세요."
      ],
      "metadata": {
        "id": "jHc7xdix-oF4"
      }
    },
    {
      "cell_type": "code",
      "source": [
        "# warning 에러 무시\n",
        "import warnings\n",
        "warnings.filterwarnings(\"ignore\")"
      ],
      "metadata": {
        "id": "FruKY5UN-pHK"
      },
      "execution_count": null,
      "outputs": []
    },
    {
      "cell_type": "code",
      "source": [
        "# Hint : ARIMA 모델의 모수를 다르게 설정해보세요.\n",
        "model_arima = ARIMA(train_arima,(p,d,q))\n",
        "model_fit = model_arima.fit(trend='nc')"
      ],
      "metadata": {
        "id": "CX4jbcG1-rqx"
      },
      "execution_count": null,
      "outputs": []
    },
    {
      "cell_type": "code",
      "source": [
        "full_forecast = model_fit.forecast(steps=test_arima.shape[0])\n",
        "forecast_arima = pd.DataFrame(full_forecast[0], index=test_arima.index, columns = test_arima.columns)"
      ],
      "metadata": {
        "id": "8z0oZvpv-wve"
      },
      "execution_count": null,
      "outputs": []
    },
    {
      "cell_type": "code",
      "source": [
        "plt.figure(figsize=(20,10))\n",
        "plt.plot(train_arima)\n",
        "plt.plot(test_arima)\n",
        "plt.plot(forecast_arima)"
      ],
      "metadata": {
        "id": "xUmNwuEC-xui"
      },
      "execution_count": null,
      "outputs": []
    },
    {
      "cell_type": "code",
      "source": [
        "differed = differed.diff().dropna()\n",
        "\n",
        "fig = plt.figure(figsize=(16,10))\n",
        "# 그래프의 위치 설정\n",
        "ax1=fig.add_subplot(211)\n",
        "# ACF 그래프\n",
        "fig = sm.graphics.tsa.plot_acf(differed['val'], lags=20, ax=ax1)\n",
        "# 그래프의 위치 설정\n",
        "ax2 = fig.add_subplot(212)\n",
        "# PCAF 그래프\n",
        "fig = sm.graphics.tsa.plot_pacf(differed['val'], lags=20,ax=ax2)"
      ],
      "metadata": {
        "id": "2gY5xHfH_IkB"
      },
      "execution_count": null,
      "outputs": []
    },
    {
      "cell_type": "code",
      "source": [
        "p = 3\n",
        "d = 0\n",
        "q = 3\n",
        "\n",
        "model_new = ARIMA(train_arima,(p,d,q))\n",
        "model_fit = model_new.fit(trend='nc')\n",
        "print(model_fit.summary())\n",
        "full_forecast = model_fit.forecast(steps=train_arima.shape[0])\n",
        "forecast_arima = pd.DataFrame(full_forecast[0], index=train_arima.index, columns = test_arima.columns)\n",
        "plt.figure(figsize=(20,10))\n",
        "plt.plot(train_arima)\n",
        "plt.plot(test_arima)\n",
        "plt.plot(forecast_arima)"
      ],
      "metadata": {
        "id": "8fO__vL7_J7I"
      },
      "execution_count": null,
      "outputs": []
    },
    {
      "cell_type": "code",
      "source": [
        "!pip install pmdarima"
      ],
      "metadata": {
        "id": "uohh96BI_OOP"
      },
      "execution_count": null,
      "outputs": []
    },
    {
      "cell_type": "code",
      "source": [
        "import pmdarima as pm\n",
        "pm.auto_arima(train_arima)"
      ],
      "metadata": {
        "id": "yERIyt16_PyP"
      },
      "execution_count": null,
      "outputs": []
    },
    {
      "cell_type": "code",
      "source": [
        "p = 1\n",
        "d = 1\n",
        "q = 1\n",
        "\n",
        "model_new = ARIMA(train_arima,(p,d,q))\n",
        "model_fit = model_new.fit(trend='nc')\n",
        "full_forecast = model_fit.forecast(steps=test_arima.shape[0])\n",
        "forecast_arima = pd.DataFrame(full_forecast[0], index=test_arima.index, columns = test_arima.columns)\n",
        "plt.figure(figsize=(20,10))\n",
        "plt.plot(train_arima)\n",
        "plt.plot(test_arima)\n",
        "plt.plot(forecast_arima)"
      ],
      "metadata": {
        "id": "T9ambuDz_Q0q"
      },
      "execution_count": null,
      "outputs": []
    }
  ]
}